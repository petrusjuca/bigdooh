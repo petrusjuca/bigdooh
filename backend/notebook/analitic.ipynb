{
 "cells": [
  {
   "cell_type": "markdown",
   "metadata": {},
   "source": [
    "# Analisys of busines data\n",
    "\n",
    "- View data integrity\n",
    "- View "
   ]
  }
 ],
 "metadata": {
  "language_info": {
   "name": "python"
  }
 },
 "nbformat": 4,
 "nbformat_minor": 2
}
